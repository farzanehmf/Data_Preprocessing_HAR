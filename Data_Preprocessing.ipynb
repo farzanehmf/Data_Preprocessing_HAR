{
 "cells": [
  {
   "cell_type": "markdown",
   "id": "10c10289",
   "metadata": {},
   "source": [
    "# Data Preprocessing\n"
   ]
  },
  {
   "cell_type": "markdown",
   "id": "b76f6313",
   "metadata": {},
   "source": [
    "**Creation date:** 7/6/2022\n",
    "\n",
    "**Author:** Farzaneh\n",
    "\n",
    "**Modification history:** No modification"
   ]
  },
  {
   "cell_type": "markdown",
   "id": "04277d55",
   "metadata": {},
   "source": [
    "## Importing Libraries"
   ]
  },
  {
   "cell_type": "code",
   "execution_count": 9,
   "id": "7041ce2f",
   "metadata": {},
   "outputs": [],
   "source": [
    "import numpy as np #mathematical operations\n",
    "import pandas as pd #data manipulation and analysis\n",
    "import dp_functions as func #importing my data preprocessing functions\n",
    "from dp_parameters import Options #importing my parameters\n",
    "from matplotlib import pyplot as plt #data visualization library for 2D and 3D plots\n",
    "import seaborn as sns #plotting statistical graphics\n",
    "import os # operating system interfaces\n",
    "import gzip"
   ]
  },
  {
   "cell_type": "code",
   "execution_count": 2,
   "id": "480e53a6",
   "metadata": {},
   "outputs": [],
   "source": [
    "#Reading all users data in one file\n",
    "'''\n",
    "uuid_list=func.uuid_list('user_data_file')\n",
    "alldata=pd.DataFrame()\n",
    "for i, uuid in enumerate(uuid_list):\n",
    "    X = pd.read_csv('user_data_file/%s.features_labels.csv.gz' % uuid, compression='gzip')\n",
    "    X['uuid']=uuid\n",
    "    alldata=pd.concat([alldata,X],axis=0)\n",
    "alldata.to_csv(opts.resultpath, index = False)    \n",
    "'''"
   ]
  },
  {
   "cell_type": "markdown",
   "id": "b873ec7e",
   "metadata": {},
   "source": [
    "## Importing Datasets"
   ]
  },
  {
   "cell_type": "code",
   "execution_count": 10,
   "id": "acdc1ae4",
   "metadata": {},
   "outputs": [],
   "source": [
    "# Reading the data\n",
    "opts=Options()\n",
    "dataset= pd.read_csv(opts.filepath)"
   ]
  },
  {
   "cell_type": "code",
   "execution_count": 11,
   "id": "a98b9622",
   "metadata": {
    "scrolled": true
   },
   "outputs": [
    {
     "name": "stdout",
     "output_type": "stream",
     "text": [
      "────────────────────────────────────────\n",
      "Dimensions of the dataset:\n",
      "(377346, 279)\n",
      "────────────────────────────────────────\n",
      "Number of instance: 377346\n",
      "                                        \n",
      "────────────────────────────────────────\n",
      "Features: 217\n",
      "                                        \n",
      "────────────────────────────────────────\n",
      "Feature matrix : (377346 , 217)\n",
      "                                        \n",
      "────────────────────────────────────────\n",
      "Binary labels: 51\n",
      "                                        \n",
      "────────────────────────────────────────\n",
      "Binary label matrix : (377346 , 51)\n",
      "                                        \n",
      "────────────────────────────────────────\n",
      "Categorical label matrix : (377346 , 0)\n",
      "                                        \n",
      "────────────────────────────────────────\n",
      "Datatypes of the columns:\n",
      "                                        \n",
      "float64    276\n",
      "int64        2\n",
      "object       1\n",
      "dtype: int64\n",
      "────────────────────────────────────────\n",
      "General info of the data:\n",
      "                                        \n",
      "<class 'pandas.core.frame.DataFrame'>\n",
      "RangeIndex: 377346 entries, 0 to 377345\n",
      "Columns: 279 entries, timestamp to uuid\n",
      "dtypes: float64(276), int64(2), object(1)\n",
      "memory usage: 803.2+ MB\n",
      "None\n",
      "────────────────────────────────────────\n",
      "Showing the first 5 rows of the dataset:\n",
      "────────────────────────────────────────\n"
     ]
    },
    {
     "data": {
      "text/html": [
       "<div>\n",
       "<style scoped>\n",
       "    .dataframe tbody tr th:only-of-type {\n",
       "        vertical-align: middle;\n",
       "    }\n",
       "\n",
       "    .dataframe tbody tr th {\n",
       "        vertical-align: top;\n",
       "    }\n",
       "\n",
       "    .dataframe thead th {\n",
       "        text-align: right;\n",
       "    }\n",
       "</style>\n",
       "<table border=\"1\" class=\"dataframe\">\n",
       "  <thead>\n",
       "    <tr style=\"text-align: right;\">\n",
       "      <th></th>\n",
       "      <th>timestamp</th>\n",
       "      <th>raw_acc:magnitude_stats:mean</th>\n",
       "      <th>raw_acc:magnitude_stats:std</th>\n",
       "      <th>raw_acc:magnitude_stats:moment3</th>\n",
       "      <th>raw_acc:magnitude_stats:moment4</th>\n",
       "      <th>raw_acc:magnitude_stats:percentile25</th>\n",
       "      <th>raw_acc:magnitude_stats:percentile50</th>\n",
       "      <th>raw_acc:magnitude_stats:percentile75</th>\n",
       "      <th>raw_acc:magnitude_stats:value_entropy</th>\n",
       "      <th>raw_acc:magnitude_stats:time_entropy</th>\n",
       "      <th>...</th>\n",
       "      <th>label:ELEVATOR</th>\n",
       "      <th>label:OR_standing</th>\n",
       "      <th>label:AT_SCHOOL</th>\n",
       "      <th>label:PHONE_IN_HAND</th>\n",
       "      <th>label:PHONE_IN_BAG</th>\n",
       "      <th>label:PHONE_ON_TABLE</th>\n",
       "      <th>label:WITH_CO-WORKERS</th>\n",
       "      <th>label:WITH_FRIENDS</th>\n",
       "      <th>label_source</th>\n",
       "      <th>uuid</th>\n",
       "    </tr>\n",
       "  </thead>\n",
       "  <tbody>\n",
       "    <tr>\n",
       "      <th>0</th>\n",
       "      <td>1444079161</td>\n",
       "      <td>0.996815</td>\n",
       "      <td>0.003529</td>\n",
       "      <td>-0.002786</td>\n",
       "      <td>0.006496</td>\n",
       "      <td>0.995203</td>\n",
       "      <td>0.996825</td>\n",
       "      <td>0.998502</td>\n",
       "      <td>1.748756</td>\n",
       "      <td>6.684605</td>\n",
       "      <td>...</td>\n",
       "      <td>NaN</td>\n",
       "      <td>0.0</td>\n",
       "      <td>NaN</td>\n",
       "      <td>NaN</td>\n",
       "      <td>NaN</td>\n",
       "      <td>1.0</td>\n",
       "      <td>1.0</td>\n",
       "      <td>NaN</td>\n",
       "      <td>2</td>\n",
       "      <td>00EABED2-271D-49D8-B599-1D4A09240601</td>\n",
       "    </tr>\n",
       "    <tr>\n",
       "      <th>1</th>\n",
       "      <td>1444079221</td>\n",
       "      <td>0.996864</td>\n",
       "      <td>0.004172</td>\n",
       "      <td>-0.003110</td>\n",
       "      <td>0.007050</td>\n",
       "      <td>0.994957</td>\n",
       "      <td>0.996981</td>\n",
       "      <td>0.998766</td>\n",
       "      <td>1.935573</td>\n",
       "      <td>6.684603</td>\n",
       "      <td>...</td>\n",
       "      <td>NaN</td>\n",
       "      <td>0.0</td>\n",
       "      <td>NaN</td>\n",
       "      <td>NaN</td>\n",
       "      <td>NaN</td>\n",
       "      <td>1.0</td>\n",
       "      <td>1.0</td>\n",
       "      <td>NaN</td>\n",
       "      <td>2</td>\n",
       "      <td>00EABED2-271D-49D8-B599-1D4A09240601</td>\n",
       "    </tr>\n",
       "    <tr>\n",
       "      <th>2</th>\n",
       "      <td>1444079281</td>\n",
       "      <td>0.996825</td>\n",
       "      <td>0.003667</td>\n",
       "      <td>0.003094</td>\n",
       "      <td>0.006076</td>\n",
       "      <td>0.994797</td>\n",
       "      <td>0.996614</td>\n",
       "      <td>0.998704</td>\n",
       "      <td>2.031780</td>\n",
       "      <td>6.684605</td>\n",
       "      <td>...</td>\n",
       "      <td>NaN</td>\n",
       "      <td>0.0</td>\n",
       "      <td>NaN</td>\n",
       "      <td>NaN</td>\n",
       "      <td>NaN</td>\n",
       "      <td>1.0</td>\n",
       "      <td>1.0</td>\n",
       "      <td>NaN</td>\n",
       "      <td>2</td>\n",
       "      <td>00EABED2-271D-49D8-B599-1D4A09240601</td>\n",
       "    </tr>\n",
       "    <tr>\n",
       "      <th>3</th>\n",
       "      <td>1444079341</td>\n",
       "      <td>0.996874</td>\n",
       "      <td>0.003541</td>\n",
       "      <td>0.000626</td>\n",
       "      <td>0.006059</td>\n",
       "      <td>0.995050</td>\n",
       "      <td>0.996907</td>\n",
       "      <td>0.998690</td>\n",
       "      <td>1.865318</td>\n",
       "      <td>6.684605</td>\n",
       "      <td>...</td>\n",
       "      <td>NaN</td>\n",
       "      <td>0.0</td>\n",
       "      <td>NaN</td>\n",
       "      <td>NaN</td>\n",
       "      <td>NaN</td>\n",
       "      <td>1.0</td>\n",
       "      <td>1.0</td>\n",
       "      <td>NaN</td>\n",
       "      <td>2</td>\n",
       "      <td>00EABED2-271D-49D8-B599-1D4A09240601</td>\n",
       "    </tr>\n",
       "    <tr>\n",
       "      <th>4</th>\n",
       "      <td>1444079431</td>\n",
       "      <td>0.997371</td>\n",
       "      <td>0.037653</td>\n",
       "      <td>0.043389</td>\n",
       "      <td>0.102332</td>\n",
       "      <td>0.995548</td>\n",
       "      <td>0.996860</td>\n",
       "      <td>0.998205</td>\n",
       "      <td>0.460806</td>\n",
       "      <td>6.683904</td>\n",
       "      <td>...</td>\n",
       "      <td>NaN</td>\n",
       "      <td>0.0</td>\n",
       "      <td>NaN</td>\n",
       "      <td>NaN</td>\n",
       "      <td>NaN</td>\n",
       "      <td>1.0</td>\n",
       "      <td>1.0</td>\n",
       "      <td>NaN</td>\n",
       "      <td>2</td>\n",
       "      <td>00EABED2-271D-49D8-B599-1D4A09240601</td>\n",
       "    </tr>\n",
       "  </tbody>\n",
       "</table>\n",
       "<p>5 rows × 279 columns</p>\n",
       "</div>"
      ],
      "text/plain": [
       "    timestamp  raw_acc:magnitude_stats:mean  raw_acc:magnitude_stats:std  \\\n",
       "0  1444079161                      0.996815                     0.003529   \n",
       "1  1444079221                      0.996864                     0.004172   \n",
       "2  1444079281                      0.996825                     0.003667   \n",
       "3  1444079341                      0.996874                     0.003541   \n",
       "4  1444079431                      0.997371                     0.037653   \n",
       "\n",
       "   raw_acc:magnitude_stats:moment3  raw_acc:magnitude_stats:moment4  \\\n",
       "0                        -0.002786                         0.006496   \n",
       "1                        -0.003110                         0.007050   \n",
       "2                         0.003094                         0.006076   \n",
       "3                         0.000626                         0.006059   \n",
       "4                         0.043389                         0.102332   \n",
       "\n",
       "   raw_acc:magnitude_stats:percentile25  raw_acc:magnitude_stats:percentile50  \\\n",
       "0                              0.995203                              0.996825   \n",
       "1                              0.994957                              0.996981   \n",
       "2                              0.994797                              0.996614   \n",
       "3                              0.995050                              0.996907   \n",
       "4                              0.995548                              0.996860   \n",
       "\n",
       "   raw_acc:magnitude_stats:percentile75  \\\n",
       "0                              0.998502   \n",
       "1                              0.998766   \n",
       "2                              0.998704   \n",
       "3                              0.998690   \n",
       "4                              0.998205   \n",
       "\n",
       "   raw_acc:magnitude_stats:value_entropy  \\\n",
       "0                               1.748756   \n",
       "1                               1.935573   \n",
       "2                               2.031780   \n",
       "3                               1.865318   \n",
       "4                               0.460806   \n",
       "\n",
       "   raw_acc:magnitude_stats:time_entropy  ...  label:ELEVATOR  \\\n",
       "0                              6.684605  ...             NaN   \n",
       "1                              6.684603  ...             NaN   \n",
       "2                              6.684605  ...             NaN   \n",
       "3                              6.684605  ...             NaN   \n",
       "4                              6.683904  ...             NaN   \n",
       "\n",
       "   label:OR_standing  label:AT_SCHOOL  label:PHONE_IN_HAND  \\\n",
       "0                0.0              NaN                  NaN   \n",
       "1                0.0              NaN                  NaN   \n",
       "2                0.0              NaN                  NaN   \n",
       "3                0.0              NaN                  NaN   \n",
       "4                0.0              NaN                  NaN   \n",
       "\n",
       "   label:PHONE_IN_BAG  label:PHONE_ON_TABLE  label:WITH_CO-WORKERS  \\\n",
       "0                 NaN                   1.0                    1.0   \n",
       "1                 NaN                   1.0                    1.0   \n",
       "2                 NaN                   1.0                    1.0   \n",
       "3                 NaN                   1.0                    1.0   \n",
       "4                 NaN                   1.0                    1.0   \n",
       "\n",
       "   label:WITH_FRIENDS  label_source                                  uuid  \n",
       "0                 NaN             2  00EABED2-271D-49D8-B599-1D4A09240601  \n",
       "1                 NaN             2  00EABED2-271D-49D8-B599-1D4A09240601  \n",
       "2                 NaN             2  00EABED2-271D-49D8-B599-1D4A09240601  \n",
       "3                 NaN             2  00EABED2-271D-49D8-B599-1D4A09240601  \n",
       "4                 NaN             2  00EABED2-271D-49D8-B599-1D4A09240601  \n",
       "\n",
       "[5 rows x 279 columns]"
      ]
     },
     "execution_count": 11,
     "metadata": {},
     "output_type": "execute_result"
    }
   ],
   "source": [
    "#Exploring the dataset\n",
    "func.inf_(dataset,opts)"
   ]
  },
  {
   "cell_type": "markdown",
   "id": "d9b4c9e2",
   "metadata": {},
   "source": [
    "## Checking summary Statistics of the data"
   ]
  },
  {
   "cell_type": "code",
   "execution_count": 12,
   "id": "13a7948a",
   "metadata": {},
   "outputs": [
    {
     "name": "stdout",
     "output_type": "stream",
     "text": [
      "────────────────────────────────────────\n",
      "Summary Statistics for Numerical data:\n",
      "────────────────────────────────────────\n",
      "          timestamp  raw_acc:magnitude_stats:mean  \\\n",
      "count  3.773460e+05                 377056.000000   \n",
      "mean   1.445839e+09                      1.002223   \n",
      "std    5.907009e+06                      0.079623   \n",
      "min    1.433537e+09                      0.018148   \n",
      "25%    1.441438e+09                      0.992556   \n",
      "50%    1.444974e+09                      1.001258   \n",
      "75%    1.448696e+09                      1.012745   \n",
      "max    1.464899e+09                      3.185837   \n",
      "\n",
      "       raw_acc:magnitude_stats:std  raw_acc:magnitude_stats:moment3  \\\n",
      "count                377056.000000                    377056.000000   \n",
      "mean                      0.038832                         0.037772   \n",
      "std                       0.096109                         0.113198   \n",
      "min                       0.000030                        -0.493806   \n",
      "25%                       0.001709                        -0.000785   \n",
      "50%                       0.003265                         0.000772   \n",
      "75%                       0.021366                         0.009864   \n",
      "max                       1.936343                         2.472750   \n",
      "\n",
      "       raw_acc:magnitude_stats:moment4  raw_acc:magnitude_stats:percentile25  \\\n",
      "count                    377056.000000                         377056.000000   \n",
      "mean                          0.072804                              0.983165   \n",
      "std                           0.170481                              0.082960   \n",
      "min                           0.000039                              0.015845   \n",
      "25%                           0.002328                              0.982671   \n",
      "50%                           0.005051                              0.995300   \n",
      "75%                           0.045333                              1.003679   \n",
      "max                           3.360718                              1.942718   \n",
      "\n",
      "       raw_acc:magnitude_stats:percentile50  \\\n",
      "count                         377056.000000   \n",
      "mean                               0.998471   \n",
      "std                                0.076687   \n",
      "min                                0.017998   \n",
      "25%                                0.991248   \n",
      "50%                                1.000116   \n",
      "75%                                1.009232   \n",
      "max                                2.636697   \n",
      "\n",
      "       raw_acc:magnitude_stats:percentile75  \\\n",
      "count                         377056.000000   \n",
      "mean                               1.016691   \n",
      "std                                0.104874   \n",
      "min                                0.020365   \n",
      "25%                                0.994859   \n",
      "50%                                1.003813   \n",
      "75%                                1.019163   \n",
      "max                                3.958338   \n",
      "\n",
      "       raw_acc:magnitude_stats:value_entropy  \\\n",
      "count                          377056.000000   \n",
      "mean                                2.045331   \n",
      "std                                 0.616899   \n",
      "min                                 0.009605   \n",
      "25%                                 1.671571   \n",
      "50%                                 2.296398   \n",
      "75%                                 2.523618   \n",
      "max                                 2.971272   \n",
      "\n",
      "       raw_acc:magnitude_stats:time_entropy  ...  label:STAIRS_-_GOING_DOWN  \\\n",
      "count                         377056.000000  ...               94415.000000   \n",
      "mean                               6.680278  ...                   0.008198   \n",
      "std                                0.021246  ...                   0.090171   \n",
      "min                                5.460637  ...                   0.000000   \n",
      "25%                                6.684369  ...                   0.000000   \n",
      "50%                                6.684606  ...                   0.000000   \n",
      "75%                                6.684610  ...                   0.000000   \n",
      "max                                6.684612  ...                   1.000000   \n",
      "\n",
      "       label:ELEVATOR  label:OR_standing  label:AT_SCHOOL  \\\n",
      "count    71196.000000      306594.000000    259164.000000   \n",
      "mean         0.002809           0.123231         0.163337   \n",
      "std          0.052927           0.328703         0.369673   \n",
      "min          0.000000           0.000000         0.000000   \n",
      "25%          0.000000           0.000000         0.000000   \n",
      "50%          0.000000           0.000000         0.000000   \n",
      "75%          0.000000           0.000000         0.000000   \n",
      "max          1.000000           1.000000         1.000000   \n",
      "\n",
      "       label:PHONE_IN_HAND  label:PHONE_IN_BAG  label:PHONE_ON_TABLE  \\\n",
      "count        141703.000000        92462.000000         162423.000000   \n",
      "mean              0.102842            0.110326              0.708256   \n",
      "std               0.303753            0.313298              0.454567   \n",
      "min               0.000000            0.000000              0.000000   \n",
      "25%               0.000000            0.000000              0.000000   \n",
      "50%               0.000000            0.000000              1.000000   \n",
      "75%               0.000000            0.000000              1.000000   \n",
      "max               1.000000            1.000000              1.000000   \n",
      "\n",
      "       label:WITH_CO-WORKERS  label:WITH_FRIENDS   label_source  \n",
      "count          112064.000000       165414.000000  377346.000000  \n",
      "mean                0.055540            0.149546       1.565261  \n",
      "std                 0.229032            0.356627       1.463029  \n",
      "min                 0.000000            0.000000      -1.000000  \n",
      "25%                 0.000000            0.000000       2.000000  \n",
      "50%                 0.000000            0.000000       2.000000  \n",
      "75%                 0.000000            0.000000       2.000000  \n",
      "max                 1.000000            1.000000       6.000000  \n",
      "\n",
      "[8 rows x 278 columns]\n",
      "────────────────────────────────────────\n"
     ]
    }
   ],
   "source": [
    "#Summary Statistics of the data\n",
    "func.stat(dataset)"
   ]
  },
  {
   "cell_type": "markdown",
   "id": "0815937f",
   "metadata": {},
   "source": [
    "## Handling Duplicates"
   ]
  },
  {
   "cell_type": "code",
   "execution_count": 13,
   "id": "9f745ce1",
   "metadata": {},
   "outputs": [
    {
     "name": "stdout",
     "output_type": "stream",
     "text": [
      "******************** There are not any duplicates in data ********************\n"
     ]
    }
   ],
   "source": [
    "# Removing duplicates from dataset\n",
    "dataset=func.duplicate(dataset)"
   ]
  },
  {
   "cell_type": "markdown",
   "id": "85ce31a5",
   "metadata": {},
   "source": [
    "## Handling zero entry columns"
   ]
  },
  {
   "cell_type": "code",
   "execution_count": 14,
   "id": "1a60b5be",
   "metadata": {},
   "outputs": [
    {
     "name": "stdout",
     "output_type": "stream",
     "text": [
      "******************** The number of columns with all zero entries :  3 ********************\n",
      "['discrete:battery_plugged:is_wireless'\n",
      " 'discrete:battery_state:is_unknown'\n",
      " 'discrete:wifi_status:is_reachable_via_wwan']\n",
      "******************** New dataframe (no zero columns) dimension: (377346, 276) ********************\n"
     ]
    }
   ],
   "source": [
    "#Remove zero columns before missing value imputation\n",
    "dataset , zero_col_nam=func.zer_col(dataset)"
   ]
  },
  {
   "cell_type": "markdown",
   "id": "2364076a",
   "metadata": {},
   "source": [
    "### Features and Labels\n"
   ]
  },
  {
   "cell_type": "code",
   "execution_count": 15,
   "id": "82b31d83",
   "metadata": {},
   "outputs": [],
   "source": [
    "#splitting features by type\n",
    "data_no_label=func.features(dataset,opts) #All features dataframe\n",
    "columns_no_label=list(data_no_label.columns) # features name \n",
    "colnames_numerics= list(data_no_label.select_dtypes(include=np.number).columns.tolist()) # Numeric features name\n",
    "colnames_binary_only=list(func.binary_feat(data_no_label)) # Binary features name\n",
    "colnames_float_only= list(set(colnames_numerics )- set(colnames_binary_only)) # Float features name"
   ]
  },
  {
   "cell_type": "markdown",
   "id": "26ab3362",
   "metadata": {},
   "source": [
    "## Encoding the categorical labels"
   ]
  },
  {
   "cell_type": "code",
   "execution_count": 16,
   "id": "8ce26105",
   "metadata": {},
   "outputs": [],
   "source": [
    "# Category or Binary Labels\n",
    "if opts.label_type == 'binary':\n",
    "    label=dataset.loc[:,opts.binary_label_variables]\n",
    "else:\n",
    "    label=dataset.loc[:,opts.category_label_variabels]\n",
    "    label=func.label_converter(label,opts)\n",
    "    print('Encoded labels:',label, sep='\\n')"
   ]
  },
  {
   "cell_type": "markdown",
   "id": "feab96b1",
   "metadata": {},
   "source": [
    "## Missing values detection and imputation"
   ]
  },
  {
   "cell_type": "code",
   "execution_count": 17,
   "id": "3502414c",
   "metadata": {},
   "outputs": [
    {
     "name": "stdout",
     "output_type": "stream",
     "text": [
      "Total # of missing values: 10713244\n",
      "────────────────────────────────────────\n",
      "# Of missing values for each column:\n",
      "────────────────────────────────────────\n",
      "label:LYING_DOWN                  73623\n",
      "label:SITTING                     70752\n",
      "label:FIX_walking                 70752\n",
      "label:FIX_running                236476\n",
      "label:BICYCLING                  242163\n",
      "label:SLEEPING                    92078\n",
      "label:LAB_WORK                   327951\n",
      "label:IN_CLASS                   268283\n",
      "label:IN_A_MEETING               146133\n",
      "label:LOC_main_workplace         175619\n",
      "label:OR_indoors                 180540\n",
      "label:OR_outside                 225848\n",
      "label:IN_A_CAR                   202650\n",
      "label:ON_A_BUS                   208314\n",
      "label:DRIVE_-_I_M_THE_DRIVER     215082\n",
      "label:DRIVE_-_I_M_A_PASSENGER    246259\n",
      "label:LOC_home                    22012\n",
      "label:FIX_restaurant             219764\n",
      "label:PHONE_IN_POCKET            242982\n",
      "label:OR_exercise                136509\n",
      "label:COOKING                    168000\n",
      "label:SHOPPING                   238553\n",
      "label:STROLLING                  323585\n",
      "label:DRINKING__ALCOHOL_         306563\n",
      "label:BATHING_-_SHOWER           176226\n",
      "label:CLEANING                   217926\n",
      "label:DOING_LAUNDRY              303374\n",
      "label:WASHING_DISHES             240872\n",
      "label:WATCHING_TV                180994\n",
      "label:SURFING_THE_INTERNET       184663\n",
      "label:AT_A_PARTY                 322783\n",
      "label:AT_A_BAR                   344126\n",
      "label:LOC_beach                  319702\n",
      "label:SINGING                    352229\n",
      "label:TALKING                     97800\n",
      "label:COMPUTER_WORK              139787\n",
      "label:EATING                      80865\n",
      "label:TOILET                     157073\n",
      "label:GROOMING                   178546\n",
      "label:DRESSING                   169438\n",
      "label:AT_THE_GYM                 332953\n",
      "label:STAIRS_-_GOING_UP          282717\n",
      "label:STAIRS_-_GOING_DOWN        282931\n",
      "label:ELEVATOR                   306150\n",
      "label:OR_standing                 70752\n",
      "label:AT_SCHOOL                  118182\n",
      "label:PHONE_IN_HAND              235643\n",
      "label:PHONE_IN_BAG               284884\n",
      "label:PHONE_ON_TABLE             214923\n",
      "label:WITH_CO-WORKERS            265282\n",
      "label:WITH_FRIENDS               211932\n",
      "dtype: int64\n",
      "  \n",
      "******************** We need to impute missing values ********************\n",
      "******************** Select an imputation method from dp_parameters.py ********************\n",
      "******************** The missing values imputation method:     Filling in by Zero  ********************\n"
     ]
    }
   ],
   "source": [
    "# missing values detection and imputation of labels\n",
    "#Assumption on paper=When a label was not reported (e.g., NaN) it is a 'negative' example. \n",
    "#So missing values of labels will be filled by zero.\n",
    "dataset.loc[:,opts.binary_label_variables]=func.miss_val(dataset.loc[:,opts.binary_label_variables],opts.miss_imputer_lab,opts)"
   ]
  },
  {
   "cell_type": "code",
   "execution_count": 18,
   "id": "5719d848",
   "metadata": {},
   "outputs": [
    {
     "name": "stdout",
     "output_type": "stream",
     "text": [
      "Total # of missing values: 13338938\n",
      "────────────────────────────────────────\n",
      "# Of missing values for each column:\n",
      "────────────────────────────────────────\n",
      "raw_acc:magnitude_stats:mean               290\n",
      "raw_acc:magnitude_stats:std                290\n",
      "raw_acc:magnitude_stats:moment3            290\n",
      "raw_acc:magnitude_stats:moment4            290\n",
      "raw_acc:magnitude_stats:percentile25       290\n",
      "                                         ...  \n",
      "lf_measurements:proximity               156397\n",
      "lf_measurements:relative_humidity       351407\n",
      "lf_measurements:battery_level              319\n",
      "lf_measurements:screen_brightness       156397\n",
      "lf_measurements:temperature_ambient     350896\n",
      "Length: 214, dtype: int64\n",
      "  \n",
      "******************** We need to impute missing values ********************\n",
      "******************** Select an imputation method from dp_parameters.py ********************\n",
      "******************** The missing values imputation method:     Filling in by Zero  ********************\n"
     ]
    }
   ],
   "source": [
    "#Missing value detection and imputation of features\n",
    "dataset.loc[:,columns_no_label]=func.miss_val(dataset.loc[:,columns_no_label],opts.miss_imputer_feat,opts)"
   ]
  },
  {
   "cell_type": "code",
   "execution_count": 19,
   "id": "f17f0f61",
   "metadata": {},
   "outputs": [
    {
     "name": "stdout",
     "output_type": "stream",
     "text": [
      "******************** The number of columns with all zero entries :  1 ********************\n",
      "['lf_measurements:proximity']\n",
      "******************** New dataframe (no zero columns) dimension: (377346, 275) ********************\n"
     ]
    }
   ],
   "source": [
    "#Remove zero columns after missing value imputation\n",
    "dataset,zero_col_nam=func.zer_col(dataset)"
   ]
  },
  {
   "cell_type": "code",
   "execution_count": 20,
   "id": "186a3f04",
   "metadata": {},
   "outputs": [],
   "source": [
    "# Updating features name after missing value imputation and removing new zero columns\n",
    "data_no_label=data_no_label.drop(zero_col_nam.values, inplace=False ,axis=1)\n",
    "columns_no_label=list(data_no_label.columns) # Updated features name \n",
    "colnames_numerics= list(data_no_label.select_dtypes(include=np.number).columns.tolist()) # Updated numeric features name\n",
    "colnames_binary_only=list(func.binary_feat(data_no_label)) # Updated binary features name\n",
    "colnames_float_only= list(set(colnames_numerics )- set(colnames_binary_only)) # Updated float features name"
   ]
  },
  {
   "cell_type": "markdown",
   "id": "0f1c4ee2",
   "metadata": {},
   "source": [
    "## Outliers detection and treatment\n"
   ]
  },
  {
   "cell_type": "code",
   "execution_count": 21,
   "id": "f44e6db5",
   "metadata": {},
   "outputs": [
    {
     "name": "stdout",
     "output_type": "stream",
     "text": [
      "                     ******************** There are 108662 outliers in data ********************\n",
      "max outlier value: \n",
      "audio_naive:mfcc2:mean                                   NaN\n",
      "proc_gyro:magnitude_stats:moment4                  12.660385\n",
      "proc_gyro:magnitude_spectrum:log_energy_band2            NaN\n",
      "raw_magnet:3d:mean_y                             3139.164709\n",
      "proc_gyro:3d:ro_xy                                       NaN\n",
      "                                                    ...     \n",
      "proc_gyro:magnitude_spectrum:log_energy_band1            NaN\n",
      "raw_acc:3d:ro_xz                                         NaN\n",
      "raw_magnet:3d:std_x                              2184.339347\n",
      "raw_magnet:magnitude_stats:time_entropy                  NaN\n",
      "raw_acc:magnitude_stats:percentile75                3.958338\n",
      "Length: 190, dtype: float64\n",
      "min outlier value: \n",
      "audio_naive:mfcc2:mean                                   NaN\n",
      "proc_gyro:magnitude_stats:moment4                   5.864626\n",
      "proc_gyro:magnitude_spectrum:log_energy_band2            NaN\n",
      "raw_magnet:3d:mean_y                            -3052.565781\n",
      "proc_gyro:3d:ro_xy                                       NaN\n",
      "                                                    ...     \n",
      "proc_gyro:magnitude_spectrum:log_energy_band1            NaN\n",
      "raw_acc:3d:ro_xz                                         NaN\n",
      "raw_magnet:3d:std_x                                43.051410\n",
      "raw_magnet:magnitude_stats:time_entropy                  NaN\n",
      "raw_acc:magnitude_stats:percentile75                0.000000\n",
      "Length: 190, dtype: float64\n",
      "                     ******************** Outliers have been removed  ********************\n",
      "******************** New dataframe (no outliers) dimension: (334382, 190) ********************\n"
     ]
    }
   ],
   "source": [
    "# Detectection and treatment of outliers\n",
    "no_outlier=func.outliers_IQR(dataset.loc[:,colnames_float_only],opts.quantile)\n",
    "final_dataset=dataset.iloc[(no_outlier.index)]"
   ]
  },
  {
   "cell_type": "markdown",
   "id": "6796ff5e",
   "metadata": {},
   "source": [
    "## Scaling the Numerical Variables\n"
   ]
  },
  {
   "cell_type": "code",
   "execution_count": 22,
   "id": "7587d1c1",
   "metadata": {
    "scrolled": false
   },
   "outputs": [],
   "source": [
    "# Scaling specific columns\n",
    "#final_dataset.loc[:,colnames_float_only]=func.scaling_method(final_dataset.loc[:,colnames_float_only],opts)"
   ]
  },
  {
   "cell_type": "markdown",
   "id": "3ff892d7",
   "metadata": {},
   "source": [
    "## Evaluation"
   ]
  },
  {
   "cell_type": "code",
   "execution_count": 23,
   "id": "22c65ab7",
   "metadata": {},
   "outputs": [
    {
     "name": "stdout",
     "output_type": "stream",
     "text": [
      "******************** There are  0  duplicates in cleaned data ********************\n",
      "******************** There are  0  missing values in cleaned data ********************\n",
      "******************** There are not any outliers in cleaned data ********************\n",
      "******************** The numerical features have been scaled ********************\n"
     ]
    }
   ],
   "source": [
    "# Evaluate the cleaned data\n",
    "func.evaluat(final_dataset)"
   ]
  },
  {
   "cell_type": "markdown",
   "id": "9d83006c",
   "metadata": {},
   "source": [
    "## Save to CSV file"
   ]
  },
  {
   "cell_type": "code",
   "execution_count": null,
   "id": "2bda41a6",
   "metadata": {},
   "outputs": [],
   "source": [
    "# Save cleaned data\n",
    "final_dataset.to_csv(opts.resultpath, index = False)\n",
    "#'Extrasensory_cleaned.csv' zero imputation\n",
    "#'Extrasensory_cleaned2.csv' mean imputation"
   ]
  }
 ],
 "metadata": {
  "kernelspec": {
   "display_name": "Python 3 (ipykernel)",
   "language": "python",
   "name": "python3"
  },
  "language_info": {
   "codemirror_mode": {
    "name": "ipython",
    "version": 3
   },
   "file_extension": ".py",
   "mimetype": "text/x-python",
   "name": "python",
   "nbconvert_exporter": "python",
   "pygments_lexer": "ipython3",
   "version": "3.9.12"
  }
 },
 "nbformat": 4,
 "nbformat_minor": 5
}
